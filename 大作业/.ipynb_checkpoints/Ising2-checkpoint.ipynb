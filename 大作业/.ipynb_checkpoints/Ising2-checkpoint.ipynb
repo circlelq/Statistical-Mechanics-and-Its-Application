{
 "cells": [
  {
   "cell_type": "code",
   "execution_count": 2,
   "metadata": {},
   "outputs": [],
   "source": [
    "# !/usr/bin/env python\n",
    "# -*- coding: utf-8 -*-\n",
    "# @Time    : 2021-06-19\n",
    "# @Author  : yuanleiqi\n",
    "# @File    : Ising2.py\n",
    "# 2D Ising model\n",
    "import numpy as np\n",
    "import matplotlib.pyplot as plt\n",
    "from math import *\n",
    "import random\n",
    "from matplotlib import rcParams\n",
    "config = {\n",
    "    \"font.family\": 'DejaVu serif',\n",
    "    \"font.size\": 30,\n",
    "    \"mathtext.fontset\": 'stix',\n",
    "    \"font.serif\": ['SimSong-Regular'],\n",
    "}\n",
    "\n",
    "rcParams.update(config)"
   ]
  },
  {
   "cell_type": "code",
   "execution_count": 3,
   "metadata": {},
   "outputs": [],
   "source": [
    "def f_e(x, y):\n",
    "    global J\n",
    "    return J * x * y\n",
    "\n",
    "\n",
    "def f_exp(x, y):\n",
    "    # print(exp((-x/y)))\n",
    "    return exp(float(-x / y))\n",
    "\n",
    "\n",
    "global J\n",
    "num = 20\n",
    "N = int(1e2)\n",
    "J = 1\n",
    "Tn = 0\n",
    "sig_s = np.ones((num, num), int)\n",
    "\n",
    "for T in [0.1, 0.2, 0.5, 1, 2]:\n",
    "    sig_s = np.ones((num, num), int)\n",
    "    mean_sig_s = np.zeros(N - 1)\n",
    "    E_s = np.zeros(N)\n",
    "\n",
    "    for i in range(N-1):\n",
    "        randi = random.randint(0, num - 1)\n",
    "        randj = random.randint(0, num - 1)"
   ]
  },
  {
   "cell_type": "code",
   "execution_count": 5,
   "metadata": {},
   "outputs": [
    {
     "data": {
      "text/plain": [
       "1"
      ]
     },
     "execution_count": 5,
     "metadata": {},
     "output_type": "execute_result"
    }
   ],
   "source": []
  },
  {
   "cell_type": "code",
   "execution_count": 3,
   "metadata": {
    "tags": [
     "outputPrepend"
    ]
   },
   "outputs": [
    {
     "data": {
      "image/png": "[encoded data removed]",
      "text/plain": [
       "<Figure size 864x648 with 1 Axes>"
      ]
     },
     "metadata": {
      "needs_background": "light"
     },
     "output_type": "display_data"
    }
   ],
   "source": [
    "figsize = 12, 9\n",
    "figure, ax = plt.subplots(figsize=figsize)\n",
    "ax.spines['bottom'].set_linewidth(2)\n",
    "ax.spines['left'].set_linewidth(2)\n",
    "ax.spines['right'].set_linewidth(2)\n",
    "ax.spines['top'].set_linewidth(2)\n",
    "plt.tick_params(labelsize=30)\n",
    "labels = ax.get_xticklabels() + ax.get_yticklabels()\n",
    "plt.plot([0.1, 0.2, 0.5, 1, 2], abs(ave_sig[0, :]))\n",
    "plt.xlabel(r'$T$')\n",
    "plt.ylabel(r'$<\\sigma_i>$')\n",
    "plt.title(r'Single, ' + '$\\ J=$' + str(J))\n",
    "plt.tight_layout()\n",
    "plt.savefig('fig/ave_s' + 'J' + str(J) + '.pdf')\n",
    "# plt.show()\n"
   ]
  },
  {
   "cell_type": "code",
   "execution_count": null,
   "metadata": {},
   "outputs": [],
   "source": []
  }
 ],
 "metadata": {
  "celltoolbar": "Slideshow",
  "interpreter": {
   "hash": "79332d66c7e929bd441072324af02b3fdb56e503bc6e606cafc82acf2cf8659e"
  },
  "kernelspec": {
   "display_name": "Python 3",
   "language": "python",
   "name": "python3"
  },
  "language_info": {
   "codemirror_mode": {
    "name": "ipython",
    "version": 3
   },
   "file_extension": ".py",
   "mimetype": "text/x-python",
   "name": "python",
   "nbconvert_exporter": "python",
   "pygments_lexer": "ipython3",
   "version": "3.8.8"
  },
  "toc": {
   "base_numbering": 1,
   "nav_menu": {},
   "number_sections": true,
   "sideBar": true,
   "skip_h1_title": false,
   "title_cell": "Table of Contents",
   "title_sidebar": "Contents",
   "toc_cell": false,
   "toc_position": {},
   "toc_section_display": true,
   "toc_window_display": false
  },
  "varInspector": {
   "cols": {
    "lenName": 16,
    "lenType": 16,
    "lenVar": 40
   },
   "kernels_config": {
    "python": {
     "delete_cmd_postfix": "",
     "delete_cmd_prefix": "del ",
     "library": "var_list.py",
     "varRefreshCmd": "print(var_dic_list())"
    },
    "r": {
     "delete_cmd_postfix": ") ",
     "delete_cmd_prefix": "rm(",
     "library": "var_list.r",
     "varRefreshCmd": "cat(var_dic_list()) "
    }
   },
   "types_to_exclude": [
    "module",
    "function",
    "builtin_function_or_method",
    "instance",
    "_Feature"
   ],
   "window_display": false
  }
 },
 "nbformat": 4,
 "nbformat_minor": 2
}
